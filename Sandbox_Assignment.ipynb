{
  "nbformat": 4,
  "nbformat_minor": 0,
  "metadata": {
    "colab": {
      "name": "Sandbox_Assignment.ipynb",
      "provenance": [],
      "authorship_tag": "ABX9TyMjXkMZbuQ/2xnu3Z6uGFyy",
      "include_colab_link": true
    },
    "kernelspec": {
      "name": "python3",
      "display_name": "Python 3"
    },
    "language_info": {
      "name": "python"
    }
  },
  "cells": [
    {
      "cell_type": "markdown",
      "metadata": {
        "id": "view-in-github",
        "colab_type": "text"
      },
      "source": [
        "<a href=\"https://colab.research.google.com/github/Mars096/ISYS5002_protlifio/blob/main/Sandbox_Assignment.ipynb\" target=\"_parent\"><img src=\"https://colab.research.google.com/assets/colab-badge.svg\" alt=\"Open In Colab\"/></a>"
      ]
    },
    {
      "cell_type": "code",
      "metadata": {
        "id": "L9r00EyPA8Ji"
      },
      "source": [
        ""
      ],
      "execution_count": null,
      "outputs": []
    },
    {
      "cell_type": "markdown",
      "metadata": {
        "id": "H8IiBgmMBPBN"
      },
      "source": [
        "#Assignment Ideas\n",
        "\n",
        "The process of problem solving we will use can be broken down into 5 key steps:\n",
        "\n",
        "1. State the problem clearly\n",
        "2. Describe the input and output information\n",
        "3. Work the problem by hand\n",
        "4. Develop an algorithm (and convert to python)\n",
        "5. Test solution with a variety of data\n",
        "\n",
        "Program, Inputs, Processing and Outputs\n",
        "\n",
        "#Inputs\n",
        "*Input a ticker symbol. Not sure what the ticker symbol is?\n",
        "Note: To prompt the user, I guess I will need to use the input() function\n",
        "**Find out what a ticker symbol is**\n",
        "\n",
        "\n",
        "#Processing\n",
        "*Scrape the Yahoo Website\n",
        "\n",
        "#Outputs\n",
        "*Save to CSV files\n",
        "*Save to SQL database\n",
        "\n",
        "**Work out what I have to save!!!**"
      ]
    }
  ]
}