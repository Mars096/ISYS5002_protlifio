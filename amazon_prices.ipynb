{
  "nbformat": 4,
  "nbformat_minor": 0,
  "metadata": {
    "colab": {
      "name": "amazon_prices.ipynb",
      "provenance": [],
      "include_colab_link": true
    },
    "kernelspec": {
      "name": "python3",
      "display_name": "Python 3"
    },
    "language_info": {
      "name": "python"
    }
  },
  "cells": [
    {
      "cell_type": "markdown",
      "metadata": {
        "id": "view-in-github",
        "colab_type": "text"
      },
      "source": [
        "<a href=\"https://colab.research.google.com/github/Mars096/ISYS5002_protlifio/blob/main/amazon_prices.ipynb\" target=\"_parent\"><img src=\"https://colab.research.google.com/assets/colab-badge.svg\" alt=\"Open In Colab\"/></a>"
      ]
    },
    {
      "cell_type": "code",
      "metadata": {
        "id": "nAphLm9Vlzo5"
      },
      "source": [
        "!pip install kora -q\n",
        "'''load packages'''\n",
        "import requests\n",
        "from bs4 import BeautifulSoup\n",
        "from kora.selenium import wd"
      ],
      "execution_count": 33,
      "outputs": []
    },
    {
      "cell_type": "code",
      "metadata": {
        "id": "Jyp2DYzImzk-"
      },
      "source": [
        "# Establish Session\n",
        "url = 'https://www.amazon.com.au'\n",
        "wd.get(url)"
      ],
      "execution_count": 34,
      "outputs": []
    },
    {
      "cell_type": "code",
      "metadata": {
        "id": "DCZLhnslm9Nm",
        "outputId": "c0081eb2-c6ba-48eb-940f-1dc3ea1d71b8",
        "colab": {
          "base_uri": "https://localhost:8080/",
          "height": 54
        }
      },
      "source": [
        "\n",
        "template = 'https://www.amazon.com.au/s?k={}&ref=nb_sb_noss_1'\n",
        "search_term=input(\"What to search for?\")\n",
        "search_term=search_term.replace(' ','+')\n",
        "search_term\n",
        "\n",
        "url= template.format(search_term)\n",
        "url\n"
      ],
      "execution_count": 35,
      "outputs": [
        {
          "name": "stdout",
          "output_type": "stream",
          "text": [
            "What to search for?apple\n"
          ]
        },
        {
          "output_type": "execute_result",
          "data": {
            "application/vnd.google.colaboratory.intrinsic+json": {
              "type": "string"
            },
            "text/plain": [
              "'https://www.amazon.com.au/s?k=apple&ref=nb_sb_noss_1'"
            ]
          },
          "metadata": {},
          "execution_count": 35
        }
      ]
    },
    {
      "cell_type": "code",
      "metadata": {
        "id": "MT7rDgkAn2u9"
      },
      "source": [
        "def get_url(search_term):\n",
        "  template ='https://www.amazon.com.au/s?k={}&ref=nb_sb_noss_2'\n",
        "  search_term=search_term.replace(' ','+')\n",
        "  url= template.format(search_term)\n",
        "  return url"
      ],
      "execution_count": 36,
      "outputs": []
    },
    {
      "cell_type": "code",
      "metadata": {
        "id": "IFVLuMHtoBep"
      },
      "source": [
        "search_term='ultrawide monitor'\n",
        "url=get_url(search_term)\n",
        "wd.get(url)\n",
        "soup=BeautifulSoup(wd.page_source,'html.parser')"
      ],
      "execution_count": 37,
      "outputs": []
    },
    {
      "cell_type": "code",
      "metadata": {
        "id": "XLReIhqdPSNX",
        "outputId": "98aaa0ad-a12c-4d7c-891b-2092d042ebfd",
        "colab": {
          "base_uri": "https://localhost:8080/",
          "height": 35
        }
      },
      "source": [
        "results=soup.find_all('div',{'data-component-type':'s-search-result'})\n",
        "results[0].h2.a.text"
      ],
      "execution_count": 38,
      "outputs": [
        {
          "output_type": "execute_result",
          "data": {
            "application/vnd.google.colaboratory.intrinsic+json": {
              "type": "string"
            },
            "text/plain": [
              "'Gigabyte G34WQC 34\" 144Hz QHD 1ms Ultra-Wide Curved Monitor '"
            ]
          },
          "metadata": {},
          "execution_count": 38
        }
      ]
    },
    {
      "cell_type": "code",
      "metadata": {
        "id": "iMPp45RPQxpu"
      },
      "source": [
        "def extract_descripyion(item):\n",
        "  description= item.h2.a.text\n",
        "  return description"
      ],
      "execution_count": 39,
      "outputs": []
    },
    {
      "cell_type": "code",
      "metadata": {
        "id": "9oTCUeHiRS3V"
      },
      "source": [
        "item=results[0]\n",
        "parent_price=item.find('span','a-price')\n",
        "price= parent_price.find('span','a-offscren')\n",
        "price"
      ],
      "execution_count": 45,
      "outputs": []
    },
    {
      "cell_type": "code",
      "metadata": {
        "id": "gt9f6ccqTDpu",
        "outputId": "28244f34-b522-46d4-9fea-1ad63f9e2f79",
        "colab": {
          "base_uri": "https://localhost:8080/",
          "height": 135
        }
      },
      "source": [
        "def extract_price(item):\n",
        "  try:\n",
        "    parent_price=item.find('span','a-price')\n",
        "    price= parent_price.find('span','a-offscren').text\n",
        "  return price"
      ],
      "execution_count": 49,
      "outputs": [
        {
          "output_type": "error",
          "ename": "SyntaxError",
          "evalue": "ignored",
          "traceback": [
            "\u001b[0;36m  File \u001b[0;32m\"<ipython-input-49-ca04f4018480>\"\u001b[0;36m, line \u001b[0;32m5\u001b[0m\n\u001b[0;31m    return price\u001b[0m\n\u001b[0m         ^\u001b[0m\n\u001b[0;31mSyntaxError\u001b[0m\u001b[0;31m:\u001b[0m invalid syntax\n"
          ]
        }
      ]
    },
    {
      "cell_type": "markdown",
      "metadata": {
        "id": "h4ee8kjVoYB3"
      },
      "source": [
        "# Extract the Collection"
      ]
    },
    {
      "cell_type": "code",
      "metadata": {
        "id": "9FVKD7tYoaWi"
      },
      "source": [
        ""
      ],
      "execution_count": null,
      "outputs": []
    },
    {
      "cell_type": "code",
      "metadata": {
        "id": "anR8Mto_olFI"
      },
      "source": [
        ""
      ],
      "execution_count": null,
      "outputs": []
    },
    {
      "cell_type": "code",
      "metadata": {
        "colab": {
          "base_uri": "https://localhost:8080/"
        },
        "id": "7SbZ48oPsNFk",
        "outputId": "63e0eae6-1b88-4dcf-e154-d200530d9873"
      },
      "source": [
        ""
      ],
      "execution_count": null,
      "outputs": [
        {
          "output_type": "execute_result",
          "data": {
            "text/plain": [
              "48"
            ]
          },
          "metadata": {},
          "execution_count": 22
        }
      ]
    },
    {
      "cell_type": "markdown",
      "metadata": {
        "id": "1XWF5LHBsjlJ"
      },
      "source": [
        "# Prototype the record"
      ]
    },
    {
      "cell_type": "code",
      "metadata": {
        "id": "cC0bk72XsQ-V"
      },
      "source": [
        ""
      ],
      "execution_count": null,
      "outputs": []
    },
    {
      "cell_type": "code",
      "metadata": {
        "id": "jESVEqVVsyuA"
      },
      "source": [
        ""
      ],
      "execution_count": null,
      "outputs": []
    },
    {
      "cell_type": "code",
      "metadata": {
        "id": "iO16HydCs3zv"
      },
      "source": [
        ""
      ],
      "execution_count": null,
      "outputs": []
    },
    {
      "cell_type": "code",
      "metadata": {
        "id": "64GHbNF8s734"
      },
      "source": [
        ""
      ],
      "execution_count": null,
      "outputs": []
    },
    {
      "cell_type": "code",
      "metadata": {
        "id": "fBB-xo7HtIsm"
      },
      "source": [
        ""
      ],
      "execution_count": null,
      "outputs": []
    },
    {
      "cell_type": "code",
      "metadata": {
        "id": "4QZ_hBYRtxny"
      },
      "source": [
        ""
      ],
      "execution_count": null,
      "outputs": []
    },
    {
      "cell_type": "code",
      "metadata": {
        "id": "LhWHC-W7t3mH"
      },
      "source": [
        ""
      ],
      "execution_count": null,
      "outputs": []
    },
    {
      "cell_type": "code",
      "metadata": {
        "id": "BfmPYjmRuMwU"
      },
      "source": [
        ""
      ],
      "execution_count": null,
      "outputs": []
    },
    {
      "cell_type": "markdown",
      "metadata": {
        "id": "bQK8lneQvDxO"
      },
      "source": [
        "# Generalize the pattern"
      ]
    },
    {
      "cell_type": "code",
      "metadata": {
        "id": "gF3DcIRRvHnP"
      },
      "source": [
        ""
      ],
      "execution_count": null,
      "outputs": []
    },
    {
      "cell_type": "code",
      "metadata": {
        "id": "QqKbxj1kwcYc"
      },
      "source": [
        "records = []\n",
        "results = soup.find_all('div', {'data-component-type': 's-search-result'})\n",
        "\n",
        "for item in results:\n",
        "  records.append(extract_record(item))"
      ],
      "execution_count": null,
      "outputs": []
    },
    {
      "cell_type": "markdown",
      "metadata": {
        "id": "_ZRk5fnhxeRZ"
      },
      "source": [
        "# Error Handling"
      ]
    },
    {
      "cell_type": "code",
      "metadata": {
        "id": "vkIT_BNUxFvl"
      },
      "source": [
        "\n"
      ],
      "execution_count": null,
      "outputs": []
    },
    {
      "cell_type": "code",
      "metadata": {
        "id": "pYKIDlY0x64Y"
      },
      "source": [
        ""
      ],
      "execution_count": null,
      "outputs": []
    },
    {
      "cell_type": "code",
      "metadata": {
        "id": "phNc9nIpyImi"
      },
      "source": [
        ""
      ],
      "execution_count": null,
      "outputs": []
    },
    {
      "cell_type": "markdown",
      "metadata": {
        "id": "TGU8ZMgxyaWt"
      },
      "source": [
        "# Find next page"
      ]
    },
    {
      "cell_type": "code",
      "metadata": {
        "id": "7JzOCBBRyd5B"
      },
      "source": [
        ""
      ],
      "execution_count": null,
      "outputs": []
    },
    {
      "cell_type": "markdown",
      "metadata": {
        "id": "FanXzdQm2SHO"
      },
      "source": [
        "# Putting it all together"
      ]
    },
    {
      "cell_type": "code",
      "metadata": {
        "id": "sP0evzCj2O2d"
      },
      "source": [
        ""
      ],
      "execution_count": null,
      "outputs": []
    },
    {
      "cell_type": "code",
      "metadata": {
        "id": "SmzW9RwEASoq"
      },
      "source": [
        "df = amonzon_as_dataframe(\"ultrawide monitor\")"
      ],
      "execution_count": null,
      "outputs": []
    },
    {
      "cell_type": "code",
      "metadata": {
        "colab": {
          "base_uri": "https://localhost:8080/",
          "height": 205
        },
        "id": "BF-zepIwAetK",
        "outputId": "913587a4-9576-4ba3-b82f-0f8d5f419086"
      },
      "source": [
        "df.head()"
      ],
      "execution_count": null,
      "outputs": [
        {
          "output_type": "execute_result",
          "data": {
            "text/html": [
              "<div>\n",
              "<style scoped>\n",
              "    .dataframe tbody tr th:only-of-type {\n",
              "        vertical-align: middle;\n",
              "    }\n",
              "\n",
              "    .dataframe tbody tr th {\n",
              "        vertical-align: top;\n",
              "    }\n",
              "\n",
              "    .dataframe thead th {\n",
              "        text-align: right;\n",
              "    }\n",
              "</style>\n",
              "<table border=\"1\" class=\"dataframe\">\n",
              "  <thead>\n",
              "    <tr style=\"text-align: right;\">\n",
              "      <th></th>\n",
              "      <th>description</th>\n",
              "      <th>url</th>\n",
              "      <th>price</th>\n",
              "      <th>rating</th>\n",
              "      <th>review_count</th>\n",
              "    </tr>\n",
              "  </thead>\n",
              "  <tbody>\n",
              "    <tr>\n",
              "      <th>0</th>\n",
              "      <td>Gigabyte G34WQC 34\" 144Hz QHD 1ms Ultra-Wide C...</td>\n",
              "      <td>https://www.amazon.com.au/Gigabyte-G34WQC-Ultr...</td>\n",
              "      <td>$771.44</td>\n",
              "      <td>4.4 out of 5 stars</td>\n",
              "      <td>198</td>\n",
              "    </tr>\n",
              "    <tr>\n",
              "      <th>1</th>\n",
              "      <td>LG 25UM58-P 25-Inch 21:9 UltraWide IPS Monitor...</td>\n",
              "      <td>https://www.amazon.com.au/LG-25UM58-P-25-Inch-...</td>\n",
              "      <td>$279.00</td>\n",
              "      <td>4.5 out of 5 stars</td>\n",
              "      <td>4,183</td>\n",
              "    </tr>\n",
              "    <tr>\n",
              "      <th>2</th>\n",
              "      <td>Dell S3221QS 32 Inch Curved 4K UHD Monitor, VA...</td>\n",
              "      <td>https://www.amazon.com.au/S3221QS-Ultra-Thin-F...</td>\n",
              "      <td>$613.28</td>\n",
              "      <td>4.6 out of 5 stars</td>\n",
              "      <td>659</td>\n",
              "    </tr>\n",
              "    <tr>\n",
              "      <th>3</th>\n",
              "      <td>BenQ 32 inch 144 Hz Curved Gaming Monitor ( EX...</td>\n",
              "      <td>https://www.amazon.com.au/BenQ-EX3203R-FreeSyn...</td>\n",
              "      <td>$752.12</td>\n",
              "      <td>4.5 out of 5 stars</td>\n",
              "      <td>11,215</td>\n",
              "    </tr>\n",
              "    <tr>\n",
              "      <th>4</th>\n",
              "      <td>VIVO 17 to 43 inch Aluminum Single Ultrawide M...</td>\n",
              "      <td>https://www.amazon.com.au/VIVO-Ultrawide-Artic...</td>\n",
              "      <td>$153.60</td>\n",
              "      <td>4.4 out of 5 stars</td>\n",
              "      <td>174</td>\n",
              "    </tr>\n",
              "  </tbody>\n",
              "</table>\n",
              "</div>"
            ],
            "text/plain": [
              "                                         description  ... review_count\n",
              "0  Gigabyte G34WQC 34\" 144Hz QHD 1ms Ultra-Wide C...  ...          198\n",
              "1  LG 25UM58-P 25-Inch 21:9 UltraWide IPS Monitor...  ...        4,183\n",
              "2  Dell S3221QS 32 Inch Curved 4K UHD Monitor, VA...  ...          659\n",
              "3  BenQ 32 inch 144 Hz Curved Gaming Monitor ( EX...  ...       11,215\n",
              "4  VIVO 17 to 43 inch Aluminum Single Ultrawide M...  ...          174\n",
              "\n",
              "[5 rows x 5 columns]"
            ]
          },
          "metadata": {},
          "execution_count": 41
        }
      ]
    },
    {
      "cell_type": "code",
      "metadata": {
        "id": "sOFfhTFDDpto"
      },
      "source": [
        ""
      ],
      "execution_count": null,
      "outputs": []
    }
  ]
}