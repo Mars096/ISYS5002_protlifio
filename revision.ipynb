{
  "nbformat": 4,
  "nbformat_minor": 0,
  "metadata": {
    "colab": {
      "name": "revision.ipynb",
      "provenance": [],
      "authorship_tag": "ABX9TyMAWK8Xan4bWfZi6FFBTpQJ",
      "include_colab_link": true
    },
    "kernelspec": {
      "name": "python3",
      "display_name": "Python 3"
    },
    "language_info": {
      "name": "python"
    }
  },
  "cells": [
    {
      "cell_type": "markdown",
      "metadata": {
        "id": "view-in-github",
        "colab_type": "text"
      },
      "source": [
        "<a href=\"https://colab.research.google.com/github/Mars096/ISYS5002_protlifio/blob/main/revision.ipynb\" target=\"_parent\"><img src=\"https://colab.research.google.com/assets/colab-badge.svg\" alt=\"Open In Colab\"/></a>"
      ]
    },
    {
      "cell_type": "code",
      "metadata": {
        "id": "ObMOaNl_9LX5"
      },
      "source": [
        "#Exceptions\n",
        "\n",
        "#Three blocks\n",
        "#try\n",
        "#except\n",
        "#finally"
      ],
      "execution_count": null,
      "outputs": []
    },
    {
      "cell_type": "code",
      "metadata": {
        "colab": {
          "base_uri": "https://localhost:8080/",
          "height": 214
        },
        "id": "LtYCscX0_WgW",
        "outputId": "7cce3f12-61b1-4623-c19f-2618118290dc"
      },
      "source": [
        "age=input(\"How old are you?\")\n",
        "age=int(age_input)\n",
        "#there is an error on the following line. Icannot work out it is \n",
        "print(\"Wow you are\"+str(age))"
      ],
      "execution_count": 11,
      "outputs": [
        {
          "name": "stdout",
          "output_type": "stream",
          "text": [
            "How old are you?11\n"
          ]
        },
        {
          "output_type": "error",
          "ename": "NameError",
          "evalue": "ignored",
          "traceback": [
            "\u001b[0;31m---------------------------------------------------------------------------\u001b[0m",
            "\u001b[0;31mNameError\u001b[0m                                 Traceback (most recent call last)",
            "\u001b[0;32m<ipython-input-11-61796d7e4a31>\u001b[0m in \u001b[0;36m<module>\u001b[0;34m()\u001b[0m\n\u001b[1;32m      1\u001b[0m \u001b[0mage\u001b[0m\u001b[0;34m=\u001b[0m\u001b[0minput\u001b[0m\u001b[0;34m(\u001b[0m\u001b[0;34m\"How old are you?\"\u001b[0m\u001b[0;34m)\u001b[0m\u001b[0;34m\u001b[0m\u001b[0;34m\u001b[0m\u001b[0m\n\u001b[0;32m----> 2\u001b[0;31m \u001b[0mage\u001b[0m\u001b[0;34m=\u001b[0m\u001b[0mint\u001b[0m\u001b[0;34m(\u001b[0m\u001b[0mage_input\u001b[0m\u001b[0;34m)\u001b[0m\u001b[0;34m\u001b[0m\u001b[0;34m\u001b[0m\u001b[0m\n\u001b[0m\u001b[1;32m      3\u001b[0m \u001b[0mprint\u001b[0m\u001b[0;34m(\u001b[0m\u001b[0;34m\"Wow you are\"\u001b[0m\u001b[0;34m+\u001b[0m\u001b[0mstr\u001b[0m\u001b[0;34m(\u001b[0m\u001b[0mage\u001b[0m\u001b[0;34m)\u001b[0m\u001b[0;34m)\u001b[0m\u001b[0;34m\u001b[0m\u001b[0;34m\u001b[0m\u001b[0m\n",
            "\u001b[0;31mNameError\u001b[0m: name 'age_input' is not defined"
          ]
        }
      ]
    },
    {
      "cell_type": "code",
      "metadata": {
        "colab": {
          "base_uri": "https://localhost:8080/",
          "height": 129
        },
        "id": "NBrw_Jeq9kkG",
        "outputId": "fdfd695b-4994-4642-80e7-6bd4d4503cc7"
      },
      "source": [
        "try:\n",
        "  age=input(\"How old are you?\")\n",
        "  age=int(age_input)\n",
        "  print(\"Wow you are\"+str(age))\n",
        "  except TypeError as e:\n",
        "    print(e)\n",
        "  except Exception as e:\n",
        "    print(\"Here is the exception message\",e)"
      ],
      "execution_count": 5,
      "outputs": [
        {
          "output_type": "error",
          "ename": "SyntaxError",
          "evalue": "ignored",
          "traceback": [
            "\u001b[0;36m  File \u001b[0;32m\"<ipython-input-5-d7a9a7072912>\"\u001b[0;36m, line \u001b[0;32m5\u001b[0m\n\u001b[0;31m    except TypeError as e:\u001b[0m\n\u001b[0m         ^\u001b[0m\n\u001b[0;31mSyntaxError\u001b[0m\u001b[0;31m:\u001b[0m invalid syntax\n"
          ]
        }
      ]
    },
    {
      "cell_type": "code",
      "metadata": {
        "colab": {
          "base_uri": "https://localhost:8080/",
          "height": 129
        },
        "id": "2TnnZENR_c58",
        "outputId": "7f0bd75a-32a4-467a-a1bb-6161942df4f9"
      },
      "source": [
        "num1=int(input(\"please input the first number\"))\n",
        "num2=int(input(\"please input the second number\"))\n",
        "print(\"num1 divided by num2 is\", num1/num2)\n",
        "except ValueError\n",
        "print(\"please enter digits do not spell the word\")\n",
        "except ZeroDivisionError\n",
        "print(\"Here is the exception message\")"
      ],
      "execution_count": 10,
      "outputs": [
        {
          "output_type": "error",
          "ename": "SyntaxError",
          "evalue": "ignored",
          "traceback": [
            "\u001b[0;36m  File \u001b[0;32m\"<ipython-input-10-785564c56e21>\"\u001b[0;36m, line \u001b[0;32m4\u001b[0m\n\u001b[0;31m    except ValueError\u001b[0m\n\u001b[0m         ^\u001b[0m\n\u001b[0;31mSyntaxError\u001b[0m\u001b[0;31m:\u001b[0m invalid syntax\n"
          ]
        }
      ]
    },
    {
      "cell_type": "code",
      "metadata": {
        "id": "oXRRfNc-BrE0"
      },
      "source": [
        "#webscraping-table"
      ],
      "execution_count": null,
      "outputs": []
    },
    {
      "cell_type": "code",
      "metadata": {
        "id": "M0z4KINQCbwE"
      },
      "source": [
        "#Has the following HMTL\n",
        "<table>\n",
        "  <tr>\n",
        "    <th>Company</th>\n",
        "    <th>Contact</th>\n",
        "    <th>Country</th>\n",
        "  </tr>\n",
        "  <tr>\n",
        "    <td>Alfreds Futterkiste</td>\n",
        "    <td>Maria Anders</td>\n",
        "    <td>Germany</td>\n",
        "  </tr>\n",
        "  <tr>\n",
        "    <td>Centro comercial Moctezuma</td>\n",
        "    <td>Francisco Chang</td>\n",
        "    <td>Mexico</td>\n",
        "  </tr>\n",
        "</table>"
      ],
      "execution_count": null,
      "outputs": []
    },
    {
      "cell_type": "code",
      "metadata": {
        "id": "HFRR7ny3DHaT"
      },
      "source": [
        "#0.Install Libraries\n",
        "!pip install kora -q\n",
        "#1. Import Libraries\n",
        "from kora.selenium import wd\n",
        "from bs4 import BeautifulSoup\n",
        "\n",
        "#2.set up URL\n",
        "URL='https://www.abs.gov.au/statistics/economy/key-indicators'\n",
        "\n",
        "#3.Visit Page\n",
        "wd.get(URL)\n",
        "\n",
        "#4.Get HTML\n",
        "soup=BeautifulSoup(wd.page_source,\"html.parser\")\n",
        "\n",
        "table=soup.find('table')"
      ],
      "execution_count": 14,
      "outputs": []
    },
    {
      "cell_type": "code",
      "metadata": {
        "colab": {
          "base_uri": "https://localhost:8080/"
        },
        "id": "Qz15QQZ3FfWR",
        "outputId": "9e9e670d-1e80-49db-f4a3-c8c90e0bca28"
      },
      "source": [
        "len(table)"
      ],
      "execution_count": 15,
      "outputs": [
        {
          "output_type": "execute_result",
          "data": {
            "text/plain": [
              "8"
            ]
          },
          "metadata": {},
          "execution_count": 15
        }
      ]
    },
    {
      "cell_type": "code",
      "metadata": {
        "colab": {
          "base_uri": "https://localhost:8080/"
        },
        "id": "Jo2xHxz0FpjI",
        "outputId": "ca53d6f6-b4e7-4829-f388-fb532a0e00e4"
      },
      "source": [
        "body=table[0].find_all(\"tbody\")\n",
        "body.find_all('tr')"
      ],
      "execution_count": 18,
      "outputs": [
        {
          "output_type": "execute_result",
          "data": {
            "text/plain": [
              "<tbody><tr><td class=\"views-field views-field-field-indicator\" headers=\"view-field-indicator-table-column\"><a href=\"/statistics/economy/national-accounts/australian-national-accounts-national-income-expenditure-and-product/jun-2021\">Gross domestic product GDP, Chain volume measures - seasonally adjusted</a></td><td class=\"views-field views-field-field-kei-period\" headers=\"view-field-kei-period-table-column\">Jun Qtr 2021</td><td class=\"views-field views-field-field-kei-unit\" headers=\"view-field-kei-unit-table-column\">$m</td><td class=\"views-field views-field-field-kei-value views-align-right\" headers=\"view-field-kei-value-table-column\">505,134</td><td class=\"views-field views-field-field-kei-change-previous-period views-align-right\" headers=\"view-field-kei-change-previous-period-table-column\">0.7%</td><td class=\"views-field views-field-field-kei-change-period-last-ye views-align-right\" headers=\"view-field-kei-change-period-last-ye-table-column\">9.6%</td></tr><tr><td class=\"views-field views-field-field-indicator\" headers=\"view-field-indicator-table-column\"><a href=\"/statistics/economy/national-accounts/australian-national-accounts-national-income-expenditure-and-product/jun-2021\">Gross domestic product GDP, Chain volume measures - annual (a)</a></td><td class=\"views-field views-field-field-kei-period\" headers=\"view-field-kei-period-table-column\">2020-21</td><td class=\"views-field views-field-field-kei-unit\" headers=\"view-field-kei-unit-table-column\">$m</td><td class=\"views-field views-field-field-kei-value views-align-right\" headers=\"view-field-kei-value-table-column\">1,975,866</td><td class=\"views-field views-field-field-kei-change-previous-period views-align-right\" headers=\"view-field-kei-change-previous-period-table-column\">1.4%</td><td class=\"views-field views-field-field-kei-change-period-last-ye views-align-right\" headers=\"view-field-kei-change-period-last-ye-table-column\">na</td></tr></tbody>"
            ]
          },
          "metadata": {},
          "execution_count": 18
        }
      ]
    },
    {
      "cell_type": "code",
      "metadata": {
        "colab": {
          "base_uri": "https://localhost:8080/"
        },
        "id": "kU7KaIfUGk4Q",
        "outputId": "df2f414c-2af0-4a67-8077-f57a1c61ad73"
      },
      "source": [
        "body=table[1].find(\"tbody\")\n",
        "body.find_all('tr')"
      ],
      "execution_count": 20,
      "outputs": [
        {
          "output_type": "execute_result",
          "data": {
            "text/plain": [
              "[<tr><td class=\"views-field views-field-field-indicator\" headers=\"view-field-indicator-table-column--2\"><a href=\"/statistics/economy/international-trade/international-trade-goods-and-services-australia/aug-2021\">Balance on Goods and Services - seasonally adjusted</a></td><td class=\"views-field views-field-field-kei-period\" headers=\"view-field-kei-period-table-column--2\">August 20121</td><td class=\"views-field views-field-field-kei-unit\" headers=\"view-field-kei-unit-table-column--2\">$m</td><td class=\"views-field views-field-field-kei-value views-align-right\" headers=\"view-field-kei-value-table-column--2\">15,077</td><td class=\"views-field views-field-field-kei-change-previous-period views-align-right\" headers=\"view-field-kei-change-previous-period-table-column--2\">-</td><td class=\"views-field views-field-field-kei-change-period-last-ye views-align-right\" headers=\"view-field-kei-change-period-last-ye-table-column--2\">-</td></tr>,\n",
              " <tr><td class=\"views-field views-field-field-indicator\" headers=\"view-field-indicator-table-column--2\"><a href=\"/statistics/economy/international-trade/international-trade-goods-and-services-australia/aug-2021\">Total Goods and Services Credits - seasonally adjusted</a></td><td class=\"views-field views-field-field-kei-period\" headers=\"view-field-kei-period-table-column--2\">August 2021</td><td class=\"views-field views-field-field-kei-unit\" headers=\"view-field-kei-unit-table-column--2\">$m</td><td class=\"views-field views-field-field-kei-value views-align-right\" headers=\"view-field-kei-value-table-column--2\">48,524</td><td class=\"views-field views-field-field-kei-change-previous-period views-align-right\" headers=\"view-field-kei-change-previous-period-table-column--2\">4.1%</td><td class=\"views-field views-field-field-kei-change-period-last-ye views-align-right\" headers=\"view-field-kei-change-period-last-ye-table-column--2\">-3.7%</td></tr>,\n",
              " <tr><td class=\"views-field views-field-field-indicator\" headers=\"view-field-indicator-table-column--2\"><a href=\"/statistics/economy/international-trade/international-trade-goods-and-services-australia/aug-2021\">Total Goods and Services Debits - seasonally adjusted</a></td><td class=\"views-field views-field-field-kei-period\" headers=\"view-field-kei-period-table-column--2\">August 2021</td><td class=\"views-field views-field-field-kei-unit\" headers=\"view-field-kei-unit-table-column--2\">$m</td><td class=\"views-field views-field-field-kei-value views-align-right\" headers=\"view-field-kei-value-table-column--2\">33,466</td><td class=\"views-field views-field-field-kei-change-previous-period views-align-right\" headers=\"view-field-kei-change-previous-period-table-column--2\">-1.5%</td><td class=\"views-field views-field-field-kei-change-period-last-ye views-align-right\" headers=\"view-field-kei-change-period-last-ye-table-column--2\">1.5%</td></tr>,\n",
              " <tr><td class=\"views-field views-field-field-indicator\" headers=\"view-field-indicator-table-column--2\"><a href=\"/statistics/economy/international-trade/balance-payments-and-international-investment-position-australia/jun-2021\">Balance on Current Account - seasonally adjusted</a></td><td class=\"views-field views-field-field-kei-period\" headers=\"view-field-kei-period-table-column--2\">June 2021</td><td class=\"views-field views-field-field-kei-unit\" headers=\"view-field-kei-unit-table-column--2\">$m</td><td class=\"views-field views-field-field-kei-value views-align-right\" headers=\"view-field-kei-value-table-column--2\">20,461</td><td class=\"views-field views-field-field-kei-change-previous-period views-align-right\" headers=\"view-field-kei-change-previous-period-table-column--2\">na</td><td class=\"views-field views-field-field-kei-change-period-last-ye views-align-right\" headers=\"view-field-kei-change-period-last-ye-table-column--2\">na</td></tr>,\n",
              " <tr><td class=\"views-field views-field-field-indicator\" headers=\"view-field-indicator-table-column--2\"><a href=\"/statistics/economy/international-trade/balance-payments-and-international-investment-position-australia/jun-2021\">Net International Investment Position (IIP) - original</a></td><td class=\"views-field views-field-field-kei-period\" headers=\"view-field-kei-period-table-column--2\">June 2021</td><td class=\"views-field views-field-field-kei-unit\" headers=\"view-field-kei-unit-table-column--2\">$m</td><td class=\"views-field views-field-field-kei-value views-align-right\" headers=\"view-field-kei-value-table-column--2\">885,123</td><td class=\"views-field views-field-field-kei-change-previous-period views-align-right\" headers=\"view-field-kei-change-previous-period-table-column--2\">-3.26%</td><td class=\"views-field views-field-field-kei-change-period-last-ye views-align-right\" headers=\"view-field-kei-change-period-last-ye-table-column--2\">na</td></tr>,\n",
              " <tr><td class=\"views-field views-field-field-indicator\" headers=\"view-field-indicator-table-column--2\"><a href=\"/statistics/economy/international-trade/balance-payments-and-international-investment-position-australia/jun-2021\">Net Foreign Debt - original</a></td><td class=\"views-field views-field-field-kei-period\" headers=\"view-field-kei-period-table-column--2\">June 2021</td><td class=\"views-field views-field-field-kei-unit\" headers=\"view-field-kei-unit-table-column--2\">$m</td><td class=\"views-field views-field-field-kei-value views-align-right\" headers=\"view-field-kei-value-table-column--2\">1,186,356</td><td class=\"views-field views-field-field-kei-change-previous-period views-align-right\" headers=\"view-field-kei-change-previous-period-table-column--2\">1.94%</td><td class=\"views-field views-field-field-kei-change-period-last-ye views-align-right\" headers=\"view-field-kei-change-period-last-ye-table-column--2\">na</td></tr>]"
            ]
          },
          "metadata": {},
          "execution_count": 20
        }
      ]
    },
    {
      "cell_type": "code",
      "metadata": {
        "colab": {
          "base_uri": "https://localhost:8080/",
          "height": 231
        },
        "id": "cRMtKU3ZHfF1",
        "outputId": "91b8e4f4-8a31-4b8c-c396-55ce30fcc778"
      },
      "source": [
        "table= soup.find_all(\"table\")\n",
        "for table in tables:\n",
        "  print(\"\\n\\n New Table\")\n",
        "  tbody=table.find('tbody')\n",
        "  rows=tbody.find_all('tbody')\n",
        "  for row in rows:\n",
        "    data=row.find_all('td')\n",
        "    for d in data:\n",
        "      print(d.text)"
      ],
      "execution_count": 22,
      "outputs": [
        {
          "output_type": "error",
          "ename": "NameError",
          "evalue": "ignored",
          "traceback": [
            "\u001b[0;31m---------------------------------------------------------------------------\u001b[0m",
            "\u001b[0;31mNameError\u001b[0m                                 Traceback (most recent call last)",
            "\u001b[0;32m<ipython-input-22-c2e6b14faefe>\u001b[0m in \u001b[0;36m<module>\u001b[0;34m()\u001b[0m\n\u001b[1;32m      1\u001b[0m \u001b[0mtable\u001b[0m\u001b[0;34m=\u001b[0m \u001b[0msoup\u001b[0m\u001b[0;34m.\u001b[0m\u001b[0mfind_all\u001b[0m\u001b[0;34m(\u001b[0m\u001b[0;34m\"table\"\u001b[0m\u001b[0;34m)\u001b[0m\u001b[0;34m\u001b[0m\u001b[0;34m\u001b[0m\u001b[0m\n\u001b[0;32m----> 2\u001b[0;31m \u001b[0;32mfor\u001b[0m \u001b[0mtable\u001b[0m \u001b[0;32min\u001b[0m \u001b[0mtables\u001b[0m\u001b[0;34m:\u001b[0m\u001b[0;34m\u001b[0m\u001b[0;34m\u001b[0m\u001b[0m\n\u001b[0m\u001b[1;32m      3\u001b[0m   \u001b[0mprint\u001b[0m\u001b[0;34m(\u001b[0m\u001b[0;34m\"\\n\\n New Table\"\u001b[0m\u001b[0;34m)\u001b[0m\u001b[0;34m\u001b[0m\u001b[0;34m\u001b[0m\u001b[0m\n\u001b[1;32m      4\u001b[0m   \u001b[0mtbody\u001b[0m\u001b[0;34m=\u001b[0m\u001b[0mtable\u001b[0m\u001b[0;34m.\u001b[0m\u001b[0mfind\u001b[0m\u001b[0;34m(\u001b[0m\u001b[0;34m'tbody'\u001b[0m\u001b[0;34m)\u001b[0m\u001b[0;34m\u001b[0m\u001b[0;34m\u001b[0m\u001b[0m\n\u001b[1;32m      5\u001b[0m   \u001b[0mrows\u001b[0m\u001b[0;34m=\u001b[0m\u001b[0mtbody\u001b[0m\u001b[0;34m.\u001b[0m\u001b[0mfind_all\u001b[0m\u001b[0;34m(\u001b[0m\u001b[0;34m'tbody'\u001b[0m\u001b[0;34m)\u001b[0m\u001b[0;34m\u001b[0m\u001b[0;34m\u001b[0m\u001b[0m\n",
            "\u001b[0;31mNameError\u001b[0m: name 'tables' is not defined"
          ]
        }
      ]
    },
    {
      "cell_type": "code",
      "metadata": {
        "colab": {
          "base_uri": "https://localhost:8080/"
        },
        "id": "AEaX-yB5Jb6P",
        "outputId": "606d12b5-1ac7-4382-f43e-bb039513276e"
      },
      "source": [
        "#0.Install Libraries\n",
        "!pip install kora -q\n",
        "#1. Import Libraries\n",
        "from kora.selenium import wd\n",
        "from bs4 import BeautifulSoup\n",
        "import pandas as pd\n",
        "#2.set up URL\n",
        "URL='https://www.abs.gov.au/statistics/economy/key-indicators'\n",
        "\n",
        "#3.Visit Page\n",
        "wd.get(URL)\n",
        "\n",
        "#4.Get HTML\n",
        "soup=BeautifulSoup(wd.page_source,\"html.parser\")\n",
        "\n",
        "list_of_tables_as_df=pd.read_html(wd.page_source)\n",
        "len(list_of_tables_as_df)"
      ],
      "execution_count": 26,
      "outputs": [
        {
          "output_type": "execute_result",
          "data": {
            "text/plain": [
              "8"
            ]
          },
          "metadata": {},
          "execution_count": 26
        }
      ]
    },
    {
      "cell_type": "code",
      "metadata": {
        "colab": {
          "base_uri": "https://localhost:8080/",
          "height": 235
        },
        "id": "6mXfZB5MKWXg",
        "outputId": "46a40f42-da8b-4be5-866d-149e5026c38b"
      },
      "source": [
        "list_of_tables_as_df[1]"
      ],
      "execution_count": 27,
      "outputs": [
        {
          "output_type": "execute_result",
          "data": {
            "text/html": [
              "<div>\n",
              "<style scoped>\n",
              "    .dataframe tbody tr th:only-of-type {\n",
              "        vertical-align: middle;\n",
              "    }\n",
              "\n",
              "    .dataframe tbody tr th {\n",
              "        vertical-align: top;\n",
              "    }\n",
              "\n",
              "    .dataframe thead th {\n",
              "        text-align: right;\n",
              "    }\n",
              "</style>\n",
              "<table border=\"1\" class=\"dataframe\">\n",
              "  <thead>\n",
              "    <tr style=\"text-align: right;\">\n",
              "      <th></th>\n",
              "      <th>Indicator</th>\n",
              "      <th>Period</th>\n",
              "      <th>Unit</th>\n",
              "      <th>Value</th>\n",
              "      <th>Change previous period</th>\n",
              "      <th>Change same period last year</th>\n",
              "    </tr>\n",
              "  </thead>\n",
              "  <tbody>\n",
              "    <tr>\n",
              "      <th>0</th>\n",
              "      <td>Balance on Goods and Services - seasonally adj...</td>\n",
              "      <td>August 20121</td>\n",
              "      <td>$m</td>\n",
              "      <td>15077</td>\n",
              "      <td>-</td>\n",
              "      <td>-</td>\n",
              "    </tr>\n",
              "    <tr>\n",
              "      <th>1</th>\n",
              "      <td>Total Goods and Services Credits - seasonally ...</td>\n",
              "      <td>August 2021</td>\n",
              "      <td>$m</td>\n",
              "      <td>48524</td>\n",
              "      <td>4.1%</td>\n",
              "      <td>-3.7%</td>\n",
              "    </tr>\n",
              "    <tr>\n",
              "      <th>2</th>\n",
              "      <td>Total Goods and Services Debits - seasonally a...</td>\n",
              "      <td>August 2021</td>\n",
              "      <td>$m</td>\n",
              "      <td>33466</td>\n",
              "      <td>-1.5%</td>\n",
              "      <td>1.5%</td>\n",
              "    </tr>\n",
              "    <tr>\n",
              "      <th>3</th>\n",
              "      <td>Balance on Current Account - seasonally adjusted</td>\n",
              "      <td>June 2021</td>\n",
              "      <td>$m</td>\n",
              "      <td>20461</td>\n",
              "      <td>na</td>\n",
              "      <td>na</td>\n",
              "    </tr>\n",
              "    <tr>\n",
              "      <th>4</th>\n",
              "      <td>Net International Investment Position (IIP) - ...</td>\n",
              "      <td>June 2021</td>\n",
              "      <td>$m</td>\n",
              "      <td>885123</td>\n",
              "      <td>-3.26%</td>\n",
              "      <td>na</td>\n",
              "    </tr>\n",
              "    <tr>\n",
              "      <th>5</th>\n",
              "      <td>Net Foreign Debt - original</td>\n",
              "      <td>June 2021</td>\n",
              "      <td>$m</td>\n",
              "      <td>1186356</td>\n",
              "      <td>1.94%</td>\n",
              "      <td>na</td>\n",
              "    </tr>\n",
              "  </tbody>\n",
              "</table>\n",
              "</div>"
            ],
            "text/plain": [
              "                                           Indicator  ... Change same period last year\n",
              "0  Balance on Goods and Services - seasonally adj...  ...                            -\n",
              "1  Total Goods and Services Credits - seasonally ...  ...                        -3.7%\n",
              "2  Total Goods and Services Debits - seasonally a...  ...                         1.5%\n",
              "3   Balance on Current Account - seasonally adjusted  ...                           na\n",
              "4  Net International Investment Position (IIP) - ...  ...                           na\n",
              "5                        Net Foreign Debt - original  ...                           na\n",
              "\n",
              "[6 rows x 6 columns]"
            ]
          },
          "metadata": {},
          "execution_count": 27
        }
      ]
    }
  ]
}